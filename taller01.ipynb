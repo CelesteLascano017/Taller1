{
 "cells": [
  {
   "cell_type": "markdown",
   "id": "9d518faf",
   "metadata": {},
   "source": [
    "# Taller 01\n",
    "\n",
    "Celeste Lascano\n",
    "\n",
    "## Ejercicio 1\n",
    "\n",
    "¿Cuántos términos para que $1 + \\frac12 + \\frac14 +  \\frac18 +\\cdots$?\n"
   ]
  },
  {
   "cell_type": "code",
   "execution_count": null,
   "id": "cbe2544f",
   "metadata": {},
   "outputs": [],
   "source": []
  },
  {
   "cell_type": "markdown",
   "id": "c44bee98",
   "metadata": {},
   "source": [
    "## Ejercicio 2\n"
   ]
  },
  {
   "cell_type": "code",
   "execution_count": 6,
   "id": "aa807b66",
   "metadata": {},
   "outputs": [
    {
     "name": "stdout",
     "output_type": "stream",
     "text": [
      "[1, 2, 3, 5, 9, 2]\n",
      "Cambios: 3\n"
     ]
    }
   ],
   "source": [
    "vector: list[int] = [2,1,5,9,3,2]\n",
    "\n",
    "tamano = len(vector)\n",
    "contador = 0\n",
    "for i in range (tamano):\n",
    "    swapped = False\n",
    "    for j in range(1, tamano -1):\n",
    "        if(vector[j] < vector[j-1] ):\n",
    "            vector[j], vector[j-1] = vector[j-1], vector[j]\n",
    "            swapped = True\n",
    "            contador += 1\n",
    "    if(not swapped):\n",
    "        break   \n",
    "print(vector) \n",
    "print(f\"Cambios: {contador}\")    "
   ]
  },
  {
   "cell_type": "markdown",
   "id": "1312a722",
   "metadata": {},
   "source": [
    "## Ejercicio 3"
   ]
  }
 ],
 "metadata": {
  "kernelspec": {
   "display_name": "base",
   "language": "python",
   "name": "python3"
  },
  "language_info": {
   "codemirror_mode": {
    "name": "ipython",
    "version": 3
   },
   "file_extension": ".py",
   "mimetype": "text/x-python",
   "name": "python",
   "nbconvert_exporter": "python",
   "pygments_lexer": "ipython3",
   "version": "3.13.5"
  }
 },
 "nbformat": 4,
 "nbformat_minor": 5
}
